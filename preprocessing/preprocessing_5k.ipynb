{
 "cells": [
  {
   "cell_type": "markdown",
   "metadata": {},
   "source": [
    "# SNAREseq Mouse\n",
    "\n",
    "This IPython notebook demonstrates how to preprocess ATAC-seq data to get the closest downstream genes within  1k threshold distance of the chromatin regions.\n",
    "\n",
    "<span class=\"mark\">1)</span> Convert the genes' ensemble ids to gene names in the promoter file, as we have gene symbols in the scRNAseq data of SNAREseq to compare later. "
   ]
  },
  {
   "cell_type": "code",
   "execution_count": 21,
   "metadata": {
    "ExecuteTime": {
     "end_time": "2021-01-11T01:39:02.157456Z",
     "start_time": "2021-01-11T01:39:02.049075Z"
    }
   },
   "outputs": [],
   "source": [
    "\n",
    "gene_list = []\n",
    "with open('/home/ejafari/alignment/downstream/data/atac/prom/mouse_promoters.bed') as file:\n",
    "    for line in file:\n",
    "        gene_name = line.split('\\t')[-3]\n",
    "        gene_list.append(gene_name)"
   ]
  },
  {
   "cell_type": "code",
   "execution_count": 22,
   "metadata": {
    "ExecuteTime": {
     "end_time": "2021-01-11T01:39:02.955451Z",
     "start_time": "2021-01-11T01:39:02.836770Z"
    }
   },
   "outputs": [],
   "source": [
    "with open('/home/ejafari/alignment/downstream/data/atac/prom/mouse_promoters_genes_ens.bed', 'w') as file:\n",
    "    for gene in gene_list:\n",
    "        file.write(gene + '\\n')"
   ]
  },
  {
   "cell_type": "markdown",
   "metadata": {
    "ExecuteTime": {
     "end_time": "2021-01-11T01:23:39.947041Z",
     "start_time": "2021-01-11T01:23:39.942710Z"
    }
   },
   "source": [
    "Then, I used the below website to convert ensemble IDs to gene symbols:https://www.biotools.fr/mouse/ensembl_symbol_converter"
   ]
  },
  {
   "cell_type": "code",
   "execution_count": 23,
   "metadata": {
    "ExecuteTime": {
     "end_time": "2021-01-11T01:40:56.102934Z",
     "start_time": "2021-01-11T01:40:55.921690Z"
    }
   },
   "outputs": [
    {
     "name": "stdout",
     "output_type": "stream",
     "text": [
      "ENSMUSG00000102693\t4933401J01Rik\r\n",
      "ENSMUSG00000064842\tGm26206\r\n",
      "ENSMUSG00000051951\tXkr4\r\n",
      "ENSMUSG00000102851\tGm18956\r\n",
      "ENSMUSG00000103377\tGm37180\r\n",
      "ENSMUSG00000104017\tGm37363\r\n",
      "ENSMUSG00000103025\tGm37686\r\n",
      "ENSMUSG00000089699\tGm1992\r\n",
      "ENSMUSG00000103201\tGm37329\r\n",
      "ENSMUSG00000103147\tGm7341\r\n"
     ]
    }
   ],
   "source": [
    "! head /home/ejafari/alignment/downstream/data/atac/prom/mouse_promoters_genes_ens_to_gene_symbol.bed"
   ]
  },
  {
   "cell_type": "markdown",
   "metadata": {},
   "source": [
    "Then, I need to treat the above file as a dictionary to convert ensemble IDs in the promoter file:"
   ]
  },
  {
   "cell_type": "code",
   "execution_count": 24,
   "metadata": {
    "ExecuteTime": {
     "end_time": "2021-01-11T01:41:04.371834Z",
     "start_time": "2021-01-11T01:41:04.280395Z"
    }
   },
   "outputs": [],
   "source": [
    "gene_dict = dict()\n",
    "with open('/home/ejafari/alignment/downstream/data/atac/prom/mouse_promoters_genes_ens_to_gene_symbol.bed', 'r') as file:\n",
    "    for line in file:\n",
    "        split_line = line.split('\\t')\n",
    "        gene_dict[split_line[0]] = split_line[-1][:-1] "
   ]
  },
  {
   "cell_type": "code",
   "execution_count": 28,
   "metadata": {
    "ExecuteTime": {
     "end_time": "2021-01-11T01:45:32.627868Z",
     "start_time": "2021-01-11T01:45:32.298998Z"
    }
   },
   "outputs": [],
   "source": [
    "with open('/home/ejafari/alignment/downstream/data/atac/prom/mouse_promoters.bed') as file:\n",
    "    with open('/home/ejafari/alignment/downstream/data/atac/prom/mouse_promoters_chr_fixed_symbols.bed', 'a') as out_f:\n",
    "        for line in file:\n",
    "            # chr1\t3072251\t3074253\tENSMUSG00000102693\t+\n",
    "            split_line = line.split('\\t')\n",
    "            chrom = split_line[0]\n",
    "            if 'CHR' not in chrom:\n",
    "                chrom = 'chr' + chrom\n",
    "            new_line = chrom + '\\t' + split_line[1] + '\\t' + split_line[2] + '\\t' + gene_dict[split_line[3]] + '\\t' + split_line[-1]\n",
    "            out_f.write(new_line)"
   ]
  },
  {
   "cell_type": "markdown",
   "metadata": {},
   "source": [
    "<span class=\"mark\">2)</span> Sort the **promoter** file and also **peak** file"
   ]
  },
  {
   "cell_type": "code",
   "execution_count": 44,
   "metadata": {
    "ExecuteTime": {
     "end_time": "2021-01-11T03:33:15.648392Z",
     "start_time": "2021-01-11T03:33:15.289166Z"
    }
   },
   "outputs": [],
   "source": [
    "# Sort the promoter file\n",
    "! sort -k 1,1 -k2,2n /home/ejafari/alignment/downstream/data/atac/prom/mouse_promoters_chr_fixed_symbols.bed  > /home/ejafari/alignment/downstream/data/atac/prom/mouse_promoters_chr_fixed_symbols_sorted.bed"
   ]
  },
  {
   "cell_type": "code",
   "execution_count": 37,
   "metadata": {
    "ExecuteTime": {
     "end_time": "2021-01-11T02:58:28.906802Z",
     "start_time": "2021-01-11T02:58:28.557007Z"
    }
   },
   "outputs": [],
   "source": [
    "# Make TAB-delimited peak file 5k\n",
    "with open('/home/ejafari/alignment/downstream/data/SNAREseq/Mouse/5k/GSE126074_P0_BrainCortex_SNAREseq_chromatin.peaks.tsv', 'r') as f:\n",
    "    with open('/home/ejafari/alignment/downstream/data/SNAREseq/Mouse/5k/peaks.bed', 'a') as f_out:\n",
    "        for line in f:\n",
    "            # chr:start-end\n",
    "            split_line = line.replace(':','-').split('-')\n",
    "            f_out.write('\\t'.join(split_line))\n",
    "        "
   ]
  },
  {
   "cell_type": "code",
   "execution_count": 45,
   "metadata": {
    "ExecuteTime": {
     "end_time": "2021-01-11T03:33:22.036827Z",
     "start_time": "2021-01-11T03:33:21.163392Z"
    }
   },
   "outputs": [],
   "source": [
    "# sort the peak file 5k\n",
    "! sort -k 1,1 -k2,2n /home/ejafari/alignment/downstream/data/SNAREseq/Mouse/5k/peaks.bed > /home/ejafari/alignment/downstream/data/SNAREseq/Mouse/5k/peaks_sorted.bed"
   ]
  },
  {
   "cell_type": "markdown",
   "metadata": {},
   "source": [
    "<span class=\"mark\">Bedtools closest</span>\n",
    "\n",
    "    bedtools closest -a /home/ejafari/alignment/downstream/data/SNAREseq/Mouse/5k/peaks_sorted.bed -b /home/ejafari/alignment/downstream/data/atac/prom/mouse_promoters_chr_fixed_symbols_sorted.bed -iu -D b -t first > /home/ejafari/alignment/downstream/data/SNAREseq/Mouse/5k/find_closest_gene_downstream_strand_first.bed"
   ]
  },
  {
   "cell_type": "markdown",
   "metadata": {},
   "source": [
    "Removed about 600 lines from promoter file that had strange CHR names in them, ow bedtools closest won't proceed and returns an error instead."
   ]
  },
  {
   "cell_type": "markdown",
   "metadata": {
    "ExecuteTime": {
     "end_time": "2021-01-11T03:17:58.259275Z",
     "start_time": "2021-01-11T03:17:58.077812Z"
    }
   },
   "source": [
    "## ATAC"
   ]
  },
  {
   "cell_type": "markdown",
   "metadata": {
    "ExecuteTime": {
     "end_time": "2021-01-11T03:21:15.672396Z",
     "start_time": "2021-01-11T03:21:15.499385Z"
    }
   },
   "source": [
    "### Create ATAC count matrix"
   ]
  },
  {
   "cell_type": "code",
   "execution_count": 56,
   "metadata": {
    "ExecuteTime": {
     "end_time": "2021-01-11T05:23:11.318489Z",
     "start_time": "2021-01-11T05:15:03.303395Z"
    }
   },
   "outputs": [],
   "source": [
    "from scipy import io\n",
    "import pandas as pd\n",
    "input_dir = \"/home/ejafari/alignment/downstream/data/SNAREseq/Mouse/5k/\"\n",
    "\n",
    "\n",
    "matrix = io.mmread(input_dir + 'GSE126074_P0_BrainCortex_SNAREseq_chromatin.counts.mtx')\n",
    "\n",
    "# Read regions\n",
    "peak_list = []\n",
    "with open(input_dir + \"GSE126074_P0_BrainCortex_SNAREseq_chromatin.peaks.tsv\", \"r\") as filestream:\n",
    "    for line in filestream:\n",
    "        peak_list.append(line[:-1])\n",
    "#         currentline = line.split(\"\\t\")\n",
    "#         peak_list.append(currentline[0] + \":\" + currentline[1] + \"-\" + currentline[2][:-1])\n",
    "\n",
    "\n",
    "# Read cells\n",
    "cell_list = []\n",
    "with open(input_dir + \"GSE126074_P0_BrainCortex_SNAREseq_chromatin.barcodes.tsv\", \"r\") as filestream:\n",
    "    for line in filestream:\n",
    "        currentline = line.split(\",\")\n",
    "        cell_list.append(currentline[0][:-1])\n",
    "        \n",
    "df = pd.DataFrame(matrix.toarray(), index=peak_list, columns=cell_list)\n",
    "df.to_csv(input_dir + 'scATACseq.csv', index=True, header=True)\n",
    "\n"
   ]
  },
  {
   "cell_type": "code",
   "execution_count": 57,
   "metadata": {
    "ExecuteTime": {
     "end_time": "2021-01-11T05:23:11.355534Z",
     "start_time": "2021-01-11T05:23:11.327274Z"
    }
   },
   "outputs": [
    {
     "data": {
      "text/html": [
       "<div>\n",
       "<style scoped>\n",
       "    .dataframe tbody tr th:only-of-type {\n",
       "        vertical-align: middle;\n",
       "    }\n",
       "\n",
       "    .dataframe tbody tr th {\n",
       "        vertical-align: top;\n",
       "    }\n",
       "\n",
       "    .dataframe thead th {\n",
       "        text-align: right;\n",
       "    }\n",
       "</style>\n",
       "<table border=\"1\" class=\"dataframe\">\n",
       "  <thead>\n",
       "    <tr style=\"text-align: right;\">\n",
       "      <th></th>\n",
       "      <th>TGGAATTTTCTC</th>\n",
       "      <th>CCAACAAACGCG</th>\n",
       "      <th>TGCGCATAGCCG</th>\n",
       "      <th>CTGTTTCCCACC</th>\n",
       "      <th>ACAGTCTACATG</th>\n",
       "      <th>CGCACTTGCGAG</th>\n",
       "      <th>GCAACCTGAACA</th>\n",
       "      <th>TAAAACCCACCA</th>\n",
       "      <th>AAGTTGACCAAG</th>\n",
       "      <th>CCGTGAGCTGCA</th>\n",
       "      <th>...</th>\n",
       "      <th>GAAGCGAGGTCT</th>\n",
       "      <th>GCTTATTTATAC</th>\n",
       "      <th>GTTGACCCCCTC</th>\n",
       "      <th>CGAATTAATCAG</th>\n",
       "      <th>ACCGCTTTTTAA</th>\n",
       "      <th>TTTAGGCCATGT</th>\n",
       "      <th>GGGTCTTTTCGA</th>\n",
       "      <th>TTCACGTTGACC</th>\n",
       "      <th>CACCTCCAGCGA</th>\n",
       "      <th>CTGGGCATCATT</th>\n",
       "    </tr>\n",
       "  </thead>\n",
       "  <tbody>\n",
       "    <tr>\n",
       "      <th>chr1:3012650-3012823</th>\n",
       "      <td>0</td>\n",
       "      <td>0</td>\n",
       "      <td>0</td>\n",
       "      <td>0</td>\n",
       "      <td>0</td>\n",
       "      <td>0</td>\n",
       "      <td>0</td>\n",
       "      <td>0</td>\n",
       "      <td>0</td>\n",
       "      <td>0</td>\n",
       "      <td>...</td>\n",
       "      <td>0</td>\n",
       "      <td>0</td>\n",
       "      <td>0</td>\n",
       "      <td>0</td>\n",
       "      <td>0</td>\n",
       "      <td>0</td>\n",
       "      <td>0</td>\n",
       "      <td>0</td>\n",
       "      <td>0</td>\n",
       "      <td>0</td>\n",
       "    </tr>\n",
       "    <tr>\n",
       "      <th>chr1:3012853-3013002</th>\n",
       "      <td>0</td>\n",
       "      <td>0</td>\n",
       "      <td>0</td>\n",
       "      <td>0</td>\n",
       "      <td>0</td>\n",
       "      <td>0</td>\n",
       "      <td>0</td>\n",
       "      <td>0</td>\n",
       "      <td>0</td>\n",
       "      <td>0</td>\n",
       "      <td>...</td>\n",
       "      <td>0</td>\n",
       "      <td>0</td>\n",
       "      <td>0</td>\n",
       "      <td>0</td>\n",
       "      <td>0</td>\n",
       "      <td>0</td>\n",
       "      <td>0</td>\n",
       "      <td>0</td>\n",
       "      <td>0</td>\n",
       "      <td>0</td>\n",
       "    </tr>\n",
       "    <tr>\n",
       "      <th>chr1:3030589-3030826</th>\n",
       "      <td>0</td>\n",
       "      <td>0</td>\n",
       "      <td>0</td>\n",
       "      <td>0</td>\n",
       "      <td>0</td>\n",
       "      <td>0</td>\n",
       "      <td>0</td>\n",
       "      <td>0</td>\n",
       "      <td>0</td>\n",
       "      <td>0</td>\n",
       "      <td>...</td>\n",
       "      <td>0</td>\n",
       "      <td>0</td>\n",
       "      <td>0</td>\n",
       "      <td>0</td>\n",
       "      <td>0</td>\n",
       "      <td>0</td>\n",
       "      <td>0</td>\n",
       "      <td>0</td>\n",
       "      <td>0</td>\n",
       "      <td>0</td>\n",
       "    </tr>\n",
       "    <tr>\n",
       "      <th>chr1:3071552-3071701</th>\n",
       "      <td>0</td>\n",
       "      <td>0</td>\n",
       "      <td>0</td>\n",
       "      <td>0</td>\n",
       "      <td>0</td>\n",
       "      <td>0</td>\n",
       "      <td>0</td>\n",
       "      <td>0</td>\n",
       "      <td>0</td>\n",
       "      <td>0</td>\n",
       "      <td>...</td>\n",
       "      <td>0</td>\n",
       "      <td>0</td>\n",
       "      <td>0</td>\n",
       "      <td>0</td>\n",
       "      <td>0</td>\n",
       "      <td>0</td>\n",
       "      <td>0</td>\n",
       "      <td>0</td>\n",
       "      <td>0</td>\n",
       "      <td>0</td>\n",
       "    </tr>\n",
       "    <tr>\n",
       "      <th>chr1:3078770-3078919</th>\n",
       "      <td>0</td>\n",
       "      <td>0</td>\n",
       "      <td>0</td>\n",
       "      <td>0</td>\n",
       "      <td>0</td>\n",
       "      <td>0</td>\n",
       "      <td>0</td>\n",
       "      <td>0</td>\n",
       "      <td>0</td>\n",
       "      <td>0</td>\n",
       "      <td>...</td>\n",
       "      <td>0</td>\n",
       "      <td>0</td>\n",
       "      <td>0</td>\n",
       "      <td>0</td>\n",
       "      <td>0</td>\n",
       "      <td>0</td>\n",
       "      <td>0</td>\n",
       "      <td>0</td>\n",
       "      <td>0</td>\n",
       "      <td>0</td>\n",
       "    </tr>\n",
       "  </tbody>\n",
       "</table>\n",
       "<p>5 rows × 5081 columns</p>\n",
       "</div>"
      ],
      "text/plain": [
       "                      TGGAATTTTCTC  CCAACAAACGCG  TGCGCATAGCCG  CTGTTTCCCACC  \\\n",
       "chr1:3012650-3012823             0             0             0             0   \n",
       "chr1:3012853-3013002             0             0             0             0   \n",
       "chr1:3030589-3030826             0             0             0             0   \n",
       "chr1:3071552-3071701             0             0             0             0   \n",
       "chr1:3078770-3078919             0             0             0             0   \n",
       "\n",
       "                      ACAGTCTACATG  CGCACTTGCGAG  GCAACCTGAACA  TAAAACCCACCA  \\\n",
       "chr1:3012650-3012823             0             0             0             0   \n",
       "chr1:3012853-3013002             0             0             0             0   \n",
       "chr1:3030589-3030826             0             0             0             0   \n",
       "chr1:3071552-3071701             0             0             0             0   \n",
       "chr1:3078770-3078919             0             0             0             0   \n",
       "\n",
       "                      AAGTTGACCAAG  CCGTGAGCTGCA  ...  GAAGCGAGGTCT  \\\n",
       "chr1:3012650-3012823             0             0  ...             0   \n",
       "chr1:3012853-3013002             0             0  ...             0   \n",
       "chr1:3030589-3030826             0             0  ...             0   \n",
       "chr1:3071552-3071701             0             0  ...             0   \n",
       "chr1:3078770-3078919             0             0  ...             0   \n",
       "\n",
       "                      GCTTATTTATAC  GTTGACCCCCTC  CGAATTAATCAG  ACCGCTTTTTAA  \\\n",
       "chr1:3012650-3012823             0             0             0             0   \n",
       "chr1:3012853-3013002             0             0             0             0   \n",
       "chr1:3030589-3030826             0             0             0             0   \n",
       "chr1:3071552-3071701             0             0             0             0   \n",
       "chr1:3078770-3078919             0             0             0             0   \n",
       "\n",
       "                      TTTAGGCCATGT  GGGTCTTTTCGA  TTCACGTTGACC  CACCTCCAGCGA  \\\n",
       "chr1:3012650-3012823             0             0             0             0   \n",
       "chr1:3012853-3013002             0             0             0             0   \n",
       "chr1:3030589-3030826             0             0             0             0   \n",
       "chr1:3071552-3071701             0             0             0             0   \n",
       "chr1:3078770-3078919             0             0             0             0   \n",
       "\n",
       "                      CTGGGCATCATT  \n",
       "chr1:3012650-3012823             0  \n",
       "chr1:3012853-3013002             0  \n",
       "chr1:3030589-3030826             0  \n",
       "chr1:3071552-3071701             0  \n",
       "chr1:3078770-3078919             0  \n",
       "\n",
       "[5 rows x 5081 columns]"
      ]
     },
     "execution_count": 57,
     "metadata": {},
     "output_type": "execute_result"
    }
   ],
   "source": [
    "df.head()"
   ]
  },
  {
   "cell_type": "markdown",
   "metadata": {},
   "source": [
    "\n",
    "Run <span class=\"mark\"> cisTopic </span><i class=\"fa fa-lightbulb-o \"></i> on the ATAC-seq data."
   ]
  },
  {
   "cell_type": "code",
   "execution_count": 4,
   "metadata": {
    "ExecuteTime": {
     "end_time": "2021-08-10T14:42:17.224389Z",
     "start_time": "2021-08-10T14:42:16.983263Z"
    }
   },
   "outputs": [
    {
     "name": "stdout",
     "output_type": "stream",
     "text": [
      "library(Matrix)\r\n",
      "suppressWarnings(library(cisTopic, lib.loc =\"~/.local/bin\"))\r\n",
      "\r\n",
      "atac_data <- read.csv(file = 'ATACseq.csv', row.names = 1, header= TRUE, sep = ',')\r\n",
      "\r\n",
      "\r\n",
      "atac_mat <- data.matrix(atac_data)\r\n",
      "RowName <- rownames(atac_data)\r\n",
      "ColName <- colnames(atac_data)\r\n",
      "Indrow = row(atac_data)[which(!atac_data == 0)]\r\n",
      "Indcol = col(atac_data)[which(!atac_data == 0)]\r\n",
      "Val = atac_mat[ which(!atac_mat == 0)]\r\n",
      "atac_SpaMat <-sparseMatrix(\r\n",
      "  i = Indrow, \r\n",
      "  j = Indcol, \r\n",
      "  x = Val,\r\n",
      "  dims = c(nrow(atac_data), ncol(atac_data)), \r\n",
      "  dimnames = list(RowName, ColName)\r\n",
      ")\r\n",
      "\r\n",
      "cisTopicObject <- createcisTopicObject(atac_SpaMat, project.name='Mus')\r\n",
      "rm(atac_SpaMat)\r\n",
      "rm(atac_mat)\r\n",
      "\r\n",
      "cisTopicObject <- runWarpLDAModels(cisTopicObject, topic=c(2:15, 20, 25, 35, 40, 45, 50), seed=123, nCores=17, addModels=FALSE)\r\n",
      "\r\n",
      "cisTopicObject <- selectModel(cisTopicObject, type='derivative')\r\n",
      "\r\n",
      "#cisTopicObject <- runUmap(cisTopicObject, target='cell')\r\n",
      "#plotFeatures(cisTopicObject, method='Umap', target='cell', topic_contr='Probability', dim=2)\r\n",
      "#ATAC_Topics <- cisTopicObject@selected.model$document_expects\r\n",
      "\r\n",
      "topics <- cisTopicObject@selected.model$document_expects\r\n",
      "write.table(topics,'atac_topics.tsv', sep = '\\t', row.names = FALSE, quote=FALSE)\r\n",
      "\r\n",
      "pred.matrix <- predictiveDistribution(cisTopicObject)\r\n",
      "write.table(pred.matrix,'pred_atac.csv', sep = '\\t', row.names = TRUE, quote=FALSE)\r\n"
     ]
    }
   ],
   "source": [
    "# Move this ATACseq.csv file to the Hulk, and run cisTopic on it.\n",
    "# R code for Topic Modeling\n",
    "! head -40 cisTopic.R"
   ]
  },
  {
   "cell_type": "markdown",
   "metadata": {},
   "source": [
    "## 1k threshold distance"
   ]
  },
  {
   "cell_type": "code",
   "execution_count": 6,
   "metadata": {
    "ExecuteTime": {
     "end_time": "2021-08-10T14:51:23.631066Z",
     "start_time": "2021-08-10T14:51:23.615918Z"
    },
    "scrolled": true
   },
   "outputs": [],
   "source": [
    "# stringent threshold for distance when finding the closest gene (1k)\n",
    "__author__ = \"Elham Jafari\"\n",
    "__email__ = \"ejafari@indiana.edu\"\n",
    "\n",
    "import re \n",
    "import pickle\n",
    "import pandas as pd\n",
    "import matplotlib.pyplot as plt\n",
    "\n",
    "\n",
    "def convert_to_closest_gene(pred_f, input_dir, closest_file, out_f, threshold=1000):\n",
    "    pred_matrix_atac = pd.read_csv(pred_f, delimiter='\\t')\n",
    "    print(pred_matrix_atac.sum(axis=0))\n",
    "    print(pred_matrix_atac.sum(axis=1))\n",
    "    print('----------------------------------------------\\n')\n",
    "    counter = 0\n",
    "    closest_gene_dict = dict()\n",
    "    # Keeps the genome distance for each line of the file\n",
    "    dist_list = []\n",
    "    regions_above_1k = []\n",
    "    with open(input_dir + closest_file, 'r') as f:\n",
    "        for line in f:\n",
    "            fields = line.split('\\t')\n",
    "            # Distance is the last field in each line\n",
    "            distance = int(fields[-1].strip('\\n'))\n",
    "            region = fields[0] + \":\" + str(fields[1]) + \"-\" + str(fields[2]) \n",
    "            # Threshold of 1k for genome distance\n",
    "            if abs(distance) <= threshold:\n",
    "                dist_list.append(distance)\n",
    "                gene = fields[-3]\n",
    "                closest_gene_dict[region] = gene\n",
    "                counter = counter + 1\n",
    "            # Save the regions that are filtered out\n",
    "            elif region in pred_matrix_atac.index:\n",
    "                regions_above_1k.append(region)\n",
    "\n",
    "\n",
    "    print('-------------------------------------------------------')\n",
    "    # Change the region to the closest gene name\n",
    "    pred_matrix_atac.rename(closest_gene_dict, inplace=True)\n",
    "    print(\"Shape of the whole region DataFrame: \", pred_matrix_atac.shape)\n",
    "    print(\"Number of regions to be filtered out (Greater than 1k distance): \", len(regions_above_1k))\n",
    "\n",
    "    # Remove rows that have regions with distance more than 1k\n",
    "    pred_matrix_atac = pred_matrix_atac.drop(regions_above_1k)\n",
    "    print(\"Shape of the region DataFrame after filtering out regions greater than 1k: \", pred_matrix_atac.shape)\n",
    "\n",
    "    # Sum up similar closest genes\n",
    "    pred_matrix_atac.index.name = 'closest_gene'\n",
    "    pred_matrix_atac = pred_matrix_atac.groupby(by='closest_gene').sum()\n",
    "    \n",
    "    # Remove . which means when no ties are found for a region\n",
    "    pred_matrix_atac.drop(['.'], inplace=True)\n",
    "\n",
    "    print(\"Shape of the region DataFrame after filtering out and summing up similar genes: \", pred_matrix_atac.shape)\n",
    "    pred_matrix_atac.to_csv(input_dir + out_f, index=True, header=True, sep=',')\n",
    "    return pred_matrix_atac"
   ]
  },
  {
   "cell_type": "code",
   "execution_count": null,
   "metadata": {
    "ExecuteTime": {
     "start_time": "2021-01-11T18:04:01.209Z"
    }
   },
   "outputs": [],
   "source": [
    "# Run this using http://localhost:8000/edit/alignment/downstream/data/SNAREseq/Mouse/5k/closest_gene.py\n",
    "\n",
    "pred_f = '/home/ejafari/alignment/downstream/data/SNAREseq/Mouse/5k/pred_atac.csv'\n",
    "input_dir = \"/home/ejafari/alignment/downstream/data/SNAREseq/Mouse/5k/\"\n",
    "closest_file = \"find_closest_gene_downstream_strand_first.bed\"\n",
    "out_f = 'pred_matrix_closest_genes_1k_downstream_strand_first_prom.csv'\n",
    "\n",
    "# \"convert_to_closest_gene\" has been changed slightly in comparisonto pipeline_preprocesing.ipynb\n",
    "atac = convert_to_closest_gene(pred_f, input_dir, closest_file, out_f, threshold=1000)"
   ]
  },
  {
   "cell_type": "markdown",
   "metadata": {},
   "source": [
    "Shape of the whole region DataFrame:  (229429, 5081)\n",
    "\n",
    "Number of regions to be filtered out (Greater than 1k distance):  204081\n",
    "\n",
    "Shape of the region DataFrame after filtering out regions greater than 1k:  (25348, 5081)\n",
    "\n",
    "Shape of the region DataFrame after filtering out and summing up similar genes:  (19598, 5081)"
   ]
  },
  {
   "cell_type": "code",
   "execution_count": null,
   "metadata": {},
   "outputs": [],
   "source": []
  },
  {
   "cell_type": "code",
   "execution_count": null,
   "metadata": {},
   "outputs": [],
   "source": []
  },
  {
   "cell_type": "markdown",
   "metadata": {},
   "source": [
    "## RNA"
   ]
  },
  {
   "cell_type": "code",
   "execution_count": 1,
   "metadata": {
    "ExecuteTime": {
     "end_time": "2021-01-11T20:57:27.266958Z",
     "start_time": "2021-01-11T20:56:44.401395Z"
    }
   },
   "outputs": [],
   "source": [
    "input_dir = \"/home/ejafari/alignment/downstream/data/SNAREseq/Mouse/5k/\"\n",
    "\n",
    "\n",
    "from scipy import io\n",
    "import pandas as pd\n",
    "\n",
    "# io.mmwrite('test_io.mtx', matrix)\n",
    "scRNAseq_adrs = input_dir + 'GSE126074_P0_BrainCortex_SNAREseq_cDNA.counts.mtx'\n",
    "\n",
    "matrix = io.mmread(scRNAseq_adrs)\n",
    "\n",
    "# Read genes\n",
    "gene_list = []\n",
    "with open(input_dir + \"GSE126074_P0_BrainCortex_SNAREseq_cDNA.genes.tsv\", \"r\") as filestream:\n",
    "    for line in filestream:\n",
    "        currentline = line.split(\",\")\n",
    "        gene_list.append(currentline[0][:-1])\n",
    "\n",
    "# Read cells\n",
    "cell_list = []\n",
    "with open(input_dir + \"GSE126074_P0_BrainCortex_SNAREseq_cDNA.barcodes.tsv\", \"r\") as filestream:\n",
    "    for line in filestream:\n",
    "        currentline = line.split(\",\")\n",
    "        cell_list.append(currentline[0][:-1])\n",
    "        \n",
    "df = pd.DataFrame(matrix.toarray(), index=gene_list, columns=cell_list)\n",
    "df.to_csv(input_dir + 'scRNAseq.csv', index=True, header=True)"
   ]
  },
  {
   "cell_type": "code",
   "execution_count": 4,
   "metadata": {
    "ExecuteTime": {
     "end_time": "2021-01-11T21:03:14.683548Z",
     "start_time": "2021-01-11T21:03:14.627127Z"
    }
   },
   "outputs": [
    {
     "data": {
      "text/html": [
       "<div>\n",
       "<style scoped>\n",
       "    .dataframe tbody tr th:only-of-type {\n",
       "        vertical-align: middle;\n",
       "    }\n",
       "\n",
       "    .dataframe tbody tr th {\n",
       "        vertical-align: top;\n",
       "    }\n",
       "\n",
       "    .dataframe thead th {\n",
       "        text-align: right;\n",
       "    }\n",
       "</style>\n",
       "<table border=\"1\" class=\"dataframe\">\n",
       "  <thead>\n",
       "    <tr style=\"text-align: right;\">\n",
       "      <th></th>\n",
       "      <th>GGCAATGGCCCT</th>\n",
       "      <th>GGAGTCCATGGT</th>\n",
       "      <th>GAATCCGTCCCA</th>\n",
       "      <th>GGGAAAGTATTG</th>\n",
       "      <th>GTCATCCTGAGA</th>\n",
       "      <th>GCAGAGAGCCTC</th>\n",
       "      <th>GAGTGTACCTCA</th>\n",
       "      <th>CTACACCACACC</th>\n",
       "      <th>TCAATAGGACCC</th>\n",
       "      <th>ACCTGGCCTGCC</th>\n",
       "      <th>...</th>\n",
       "      <th>TGATAACTAACA</th>\n",
       "      <th>TCCCGCAGTGGT</th>\n",
       "      <th>ATCGCCCCAGGT</th>\n",
       "      <th>ACTAGTAAGAAG</th>\n",
       "      <th>CATGTTTGCAAA</th>\n",
       "      <th>GTGCACGCGTGG</th>\n",
       "      <th>CACCTCCAGCGA</th>\n",
       "      <th>TTAGACCCGCTA</th>\n",
       "      <th>GTTTCTATTGAC</th>\n",
       "      <th>TCGCGACTCGCG</th>\n",
       "    </tr>\n",
       "  </thead>\n",
       "  <tbody>\n",
       "    <tr>\n",
       "      <th>0610005C13Rik</th>\n",
       "      <td>0</td>\n",
       "      <td>0</td>\n",
       "      <td>0</td>\n",
       "      <td>0</td>\n",
       "      <td>0</td>\n",
       "      <td>0</td>\n",
       "      <td>0</td>\n",
       "      <td>0</td>\n",
       "      <td>0</td>\n",
       "      <td>0</td>\n",
       "      <td>...</td>\n",
       "      <td>0</td>\n",
       "      <td>0</td>\n",
       "      <td>0</td>\n",
       "      <td>0</td>\n",
       "      <td>0</td>\n",
       "      <td>0</td>\n",
       "      <td>0</td>\n",
       "      <td>0</td>\n",
       "      <td>0</td>\n",
       "      <td>0</td>\n",
       "    </tr>\n",
       "    <tr>\n",
       "      <th>0610007P14Rik</th>\n",
       "      <td>0</td>\n",
       "      <td>0</td>\n",
       "      <td>0</td>\n",
       "      <td>0</td>\n",
       "      <td>0</td>\n",
       "      <td>0</td>\n",
       "      <td>0</td>\n",
       "      <td>0</td>\n",
       "      <td>0</td>\n",
       "      <td>0</td>\n",
       "      <td>...</td>\n",
       "      <td>0</td>\n",
       "      <td>0</td>\n",
       "      <td>0</td>\n",
       "      <td>0</td>\n",
       "      <td>0</td>\n",
       "      <td>0</td>\n",
       "      <td>0</td>\n",
       "      <td>0</td>\n",
       "      <td>0</td>\n",
       "      <td>0</td>\n",
       "    </tr>\n",
       "    <tr>\n",
       "      <th>0610009B22Rik</th>\n",
       "      <td>0</td>\n",
       "      <td>0</td>\n",
       "      <td>0</td>\n",
       "      <td>0</td>\n",
       "      <td>0</td>\n",
       "      <td>0</td>\n",
       "      <td>0</td>\n",
       "      <td>0</td>\n",
       "      <td>0</td>\n",
       "      <td>0</td>\n",
       "      <td>...</td>\n",
       "      <td>0</td>\n",
       "      <td>0</td>\n",
       "      <td>0</td>\n",
       "      <td>0</td>\n",
       "      <td>0</td>\n",
       "      <td>0</td>\n",
       "      <td>0</td>\n",
       "      <td>0</td>\n",
       "      <td>0</td>\n",
       "      <td>0</td>\n",
       "    </tr>\n",
       "    <tr>\n",
       "      <th>0610009E02Rik</th>\n",
       "      <td>0</td>\n",
       "      <td>0</td>\n",
       "      <td>0</td>\n",
       "      <td>0</td>\n",
       "      <td>0</td>\n",
       "      <td>0</td>\n",
       "      <td>0</td>\n",
       "      <td>0</td>\n",
       "      <td>0</td>\n",
       "      <td>0</td>\n",
       "      <td>...</td>\n",
       "      <td>0</td>\n",
       "      <td>0</td>\n",
       "      <td>0</td>\n",
       "      <td>0</td>\n",
       "      <td>0</td>\n",
       "      <td>0</td>\n",
       "      <td>0</td>\n",
       "      <td>0</td>\n",
       "      <td>0</td>\n",
       "      <td>0</td>\n",
       "    </tr>\n",
       "    <tr>\n",
       "      <th>0610009L18Rik</th>\n",
       "      <td>0</td>\n",
       "      <td>0</td>\n",
       "      <td>0</td>\n",
       "      <td>0</td>\n",
       "      <td>0</td>\n",
       "      <td>0</td>\n",
       "      <td>0</td>\n",
       "      <td>0</td>\n",
       "      <td>0</td>\n",
       "      <td>0</td>\n",
       "      <td>...</td>\n",
       "      <td>0</td>\n",
       "      <td>0</td>\n",
       "      <td>0</td>\n",
       "      <td>0</td>\n",
       "      <td>0</td>\n",
       "      <td>0</td>\n",
       "      <td>0</td>\n",
       "      <td>0</td>\n",
       "      <td>0</td>\n",
       "      <td>0</td>\n",
       "    </tr>\n",
       "  </tbody>\n",
       "</table>\n",
       "<p>5 rows × 5081 columns</p>\n",
       "</div>"
      ],
      "text/plain": [
       "               GGCAATGGCCCT  GGAGTCCATGGT  GAATCCGTCCCA  GGGAAAGTATTG  \\\n",
       "0610005C13Rik             0             0             0             0   \n",
       "0610007P14Rik             0             0             0             0   \n",
       "0610009B22Rik             0             0             0             0   \n",
       "0610009E02Rik             0             0             0             0   \n",
       "0610009L18Rik             0             0             0             0   \n",
       "\n",
       "               GTCATCCTGAGA  GCAGAGAGCCTC  GAGTGTACCTCA  CTACACCACACC  \\\n",
       "0610005C13Rik             0             0             0             0   \n",
       "0610007P14Rik             0             0             0             0   \n",
       "0610009B22Rik             0             0             0             0   \n",
       "0610009E02Rik             0             0             0             0   \n",
       "0610009L18Rik             0             0             0             0   \n",
       "\n",
       "               TCAATAGGACCC  ACCTGGCCTGCC  ...  TGATAACTAACA  TCCCGCAGTGGT  \\\n",
       "0610005C13Rik             0             0  ...             0             0   \n",
       "0610007P14Rik             0             0  ...             0             0   \n",
       "0610009B22Rik             0             0  ...             0             0   \n",
       "0610009E02Rik             0             0  ...             0             0   \n",
       "0610009L18Rik             0             0  ...             0             0   \n",
       "\n",
       "               ATCGCCCCAGGT  ACTAGTAAGAAG  CATGTTTGCAAA  GTGCACGCGTGG  \\\n",
       "0610005C13Rik             0             0             0             0   \n",
       "0610007P14Rik             0             0             0             0   \n",
       "0610009B22Rik             0             0             0             0   \n",
       "0610009E02Rik             0             0             0             0   \n",
       "0610009L18Rik             0             0             0             0   \n",
       "\n",
       "               CACCTCCAGCGA  TTAGACCCGCTA  GTTTCTATTGAC  TCGCGACTCGCG  \n",
       "0610005C13Rik             0             0             0             0  \n",
       "0610007P14Rik             0             0             0             0  \n",
       "0610009B22Rik             0             0             0             0  \n",
       "0610009E02Rik             0             0             0             0  \n",
       "0610009L18Rik             0             0             0             0  \n",
       "\n",
       "[5 rows x 5081 columns]"
      ]
     },
     "execution_count": 4,
     "metadata": {},
     "output_type": "execute_result"
    }
   ],
   "source": [
    "df.head()"
   ]
  },
  {
   "cell_type": "code",
   "execution_count": 5,
   "metadata": {
    "ExecuteTime": {
     "end_time": "2021-01-11T21:03:18.671358Z",
     "start_time": "2021-01-11T21:03:18.664122Z"
    }
   },
   "outputs": [
    {
     "data": {
      "text/plain": [
       "(19322, 5081)"
      ]
     },
     "execution_count": 5,
     "metadata": {},
     "output_type": "execute_result"
    }
   ],
   "source": [
    "df.shape"
   ]
  },
  {
   "cell_type": "code",
   "execution_count": null,
   "metadata": {
    "ExecuteTime": {
     "end_time": "2021-01-11T20:20:21.747619Z",
     "start_time": "2021-01-11T20:20:21.673708Z"
    }
   },
   "outputs": [],
   "source": []
  },
  {
   "cell_type": "code",
   "execution_count": null,
   "metadata": {},
   "outputs": [],
   "source": []
  }
 ],
 "metadata": {
  "kernelspec": {
   "display_name": "Python 3",
   "language": "python",
   "name": "python3"
  },
  "language_info": {
   "codemirror_mode": {
    "name": "ipython",
    "version": 3
   },
   "file_extension": ".py",
   "mimetype": "text/x-python",
   "name": "python",
   "nbconvert_exporter": "python",
   "pygments_lexer": "ipython3",
   "version": "3.6.9"
  },
  "toc": {
   "base_numbering": 1,
   "nav_menu": {},
   "number_sections": true,
   "sideBar": true,
   "skip_h1_title": false,
   "title_cell": "Table of Contents",
   "title_sidebar": "Contents",
   "toc_cell": false,
   "toc_position": {
    "height": "calc(100% - 180px)",
    "left": "10px",
    "top": "150px",
    "width": "165px"
   },
   "toc_section_display": true,
   "toc_window_display": true
  }
 },
 "nbformat": 4,
 "nbformat_minor": 4
}
